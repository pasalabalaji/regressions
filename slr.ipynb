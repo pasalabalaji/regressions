{
 "cells": [
  {
   "cell_type": "code",
   "execution_count": 30,
   "metadata": {},
   "outputs": [
    {
     "name": "stdout",
     "output_type": "stream",
     "text": [
      "448728.67521\n"
     ]
    }
   ],
   "source": [
    "import pandas as pd\n",
    "import numpy as np\n",
    "df=pd.read_csv(\"Real estate.csv\")\n",
    "df1=df[[\"X3 distance to the nearest MRT station\",\"Y house price of unit area\"]]\n",
    "#Y=a+bX\n",
    "print(sum(df1[\"X3 distance to the nearest MRT station\"]))\n",
    "X=sum(df1[\"X3 distance to the nearest MRT station\"])\n",
    "mean_x=X/len(df1[\"X3 distance to the nearest MRT station\"])\n",
    "mean_y=sum(df1[\"Y house price of unit area\"])/len(df1[\"Y house price of unit area\"])\n",
    "#b=summation(x-mean)(y-mean)/summation((x-mean)^2)\n",
    "\n",
    "x_mean=[i-mean_x for i in df1[\"X3 distance to the nearest MRT station\"]]\n",
    "y_mean=[i-mean_y for i in df1[\"Y house price of unit area\"]]\n",
    "\n",
    "a_x_mean=np.array(x_mean)\n",
    "a_y_mean=np.array(y_mean)\n",
    "\n",
    "z=a_x_mean*a_y_mean\n",
    "\n",
    "sum_z=np.sum(z)\n",
    "\n",
    "x_mean_2=[i*i for i in x_mean]\n",
    "x_mean_2_sum=sum(x_mean_2)\n",
    "\n",
    "b=sum_z/x_mean_2_sum\n",
    "#print(b)\n",
    "\n",
    "a=mean_y-b*mean_x\n",
    "#print(a)\n",
    "\n",
    "#print(\"a : \",a,\" b : \",b)\n",
    "\n",
    "# dist=float(input(\"enter distance \"))\n",
    "# price=a+b*dist\n",
    "# print(\"price is :\",price)\n",
    "\n"
   ]
  }
 ],
 "metadata": {
  "kernelspec": {
   "display_name": "Python 3",
   "language": "python",
   "name": "python3"
  },
  "language_info": {
   "codemirror_mode": {
    "name": "ipython",
    "version": 3
   },
   "file_extension": ".py",
   "mimetype": "text/x-python",
   "name": "python",
   "nbconvert_exporter": "python",
   "pygments_lexer": "ipython3",
   "version": "3.8.10"
  },
  "orig_nbformat": 4
 },
 "nbformat": 4,
 "nbformat_minor": 2
}
